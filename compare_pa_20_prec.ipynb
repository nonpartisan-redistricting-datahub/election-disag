{
 "cells": [
  {
   "cell_type": "code",
   "execution_count": 1,
   "id": "b292b460-bffd-4392-bfff-b68b4e12e815",
   "metadata": {},
   "outputs": [],
   "source": [
    "import pandas as pd\n",
    "import geopandas as gp"
   ]
  },
  {
   "cell_type": "code",
   "execution_count": 2,
   "id": "e29528e5-2aee-4497-9703-fc6d27149522",
   "metadata": {},
   "outputs": [
    {
     "name": "stdout",
     "output_type": "stream",
     "text": [
      "(9177, 61)\n",
      "(9153, 529)\n",
      "(9150, 93)\n"
     ]
    }
   ],
   "source": [
    "cong20 = gp.read_file('./pa_gen_20_prec/pa_gen_20_cong_prec.shp')\n",
    "sldl20 = gp.read_file('./pa_gen_20_prec/pa_gen_20_sldl_prec.shp')\n",
    "st_sldu20 = gp.read_file('./pa_gen_20_prec/pa_gen_20_st_sldu_prec.shp')\n",
    "\n",
    "#check that file prec ids don't match\n",
    "print(cong20.shape)\n",
    "print(sldl20.shape)\n",
    "print(st_sldu20.shape)"
   ]
  },
  {
   "cell_type": "code",
   "execution_count": 3,
   "id": "244e69ea-3a5b-4040-92bf-fa4550b49fba",
   "metadata": {},
   "outputs": [],
   "source": [
    "oldcong = gp.read_file('./pa_gen_20_erj/pa_gen_20_cong_prec.shp')\n",
    "oldsldl = gp.read_file('./pa_gen_20_erj/pa_gen_20_sldl_prec.shp')\n",
    "oldsldu = gp.read_file('./pa_gen_20_erj/pa_gen_20_st_sldu_prec.shp')"
   ]
  },
  {
   "cell_type": "code",
   "execution_count": 4,
   "id": "8bc60854-6a1e-46c2-b01a-b0cf5f1dec86",
   "metadata": {},
   "outputs": [
    {
     "name": "stdout",
     "output_type": "stream",
     "text": [
      "Check complete\n",
      "Check complete\n",
      "Check complete\n"
     ]
    }
   ],
   "source": [
    "def compare_prec_files(old_df, new_df):\n",
    "    for col in old_df:\n",
    "        if col != 'geometry':\n",
    "            if (old_df[col][((old_df['UNIQUE_ID'].str.contains('MICHAEL')))&(old_df['UNIQUE_ID'].str.contains('ADAM'))] == \n",
    "                new_df[col][((new_df['UNIQUE_ID'].str.contains('MICHAEL')))&(new_df['UNIQUE_ID'].str.contains('ADAM'))]).any():\n",
    "                continue\n",
    "            else:\n",
    "                print(old_df[col])\n",
    "\n",
    "            if (old_df[col][((old_df['UNIQUE_ID'].str.contains('ELTON')))&(old_df['UNIQUE_ID'].str.contains('ADAM'))] == \n",
    "                new_df[col][((new_df['UNIQUE_ID'].str.contains('ELTON')))&(new_df['UNIQUE_ID'].str.contains('ADAM'))]).any():\n",
    "                continue\n",
    "            else:\n",
    "                print(old_df[col])\n",
    "            if (old_df[col][((old_df['COUNTYFP'].str.contains('021')))] == \n",
    "                new_df[col][((new_df['UNIQUE_ID'].str.contains('021')))]).any():\n",
    "                continue\n",
    "            else:\n",
    "                print(old_df[col])\n",
    "    print(\"Check complete\")\n",
    "        \n",
    "\n",
    "compare_prec_files(oldsldl, sldl20)\n",
    "compare_prec_files(oldcong, cong20)\n",
    "compare_prec_files(oldsldu, st_sldu20)"
   ]
  },
  {
   "cell_type": "code",
   "execution_count": null,
   "id": "8ab06e44-506f-4260-bb25-942089860455",
   "metadata": {},
   "outputs": [],
   "source": []
  }
 ],
 "metadata": {
  "kernelspec": {
   "display_name": "pdv_env",
   "language": "python",
   "name": "pdv_env"
  },
  "language_info": {
   "codemirror_mode": {
    "name": "ipython",
    "version": 3
   },
   "file_extension": ".py",
   "mimetype": "text/x-python",
   "name": "python",
   "nbconvert_exporter": "python",
   "pygments_lexer": "ipython3",
   "version": "3.9.4"
  }
 },
 "nbformat": 4,
 "nbformat_minor": 5
}
