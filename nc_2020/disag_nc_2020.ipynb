{
 "cells": [
  {
   "cell_type": "markdown",
   "id": "23d9c179-9ee8-4d83-893a-2b2cb18726ba",
   "metadata": {},
   "source": [
    "Sources:\n",
    "gen file: https://redistrictingdatahub.org/dataset/north-carolina-2020-general-election-precinct-and-election-results/\n",
    "prim file: https://redistrictingdatahub.org/dataset/north-carolina-2020-primary-election-precinct-and-election-results/\n",
    "\n",
    "\n",
    "The issue at hand:\n",
    "</br> Primary file does not include all splits for districts that the general file does. \n",
    "This was not accounted for in the precinct(primary?) file because for some congressional districts no election occurred. \n",
    "</br> For instance: \n",
    "a precinct contains CD1 and CD2 - \n",
    "In the general file this is split for votes. \n",
    "In the primary file CD1 did not receive any votes, so no split was added to the geography and only votes appear for CD2.\n",
    "</br> However, in the disaggregated file, it means that votes for CD2 are currently getting assigned to blocks within the entire precinct, including in CD1's geography.\n",
    "</br>As a result, want to intervene and assign all blocks in CD1 0 to not get any votes and have all votes allocated only in the section of the precinct that contains CD2.\n",
    "\n",
    "</br> To approach this issue, one option is to identify where this occurs, which blocks based on the general file, disagg general file normally,\n",
    "</br> then, for the primary file assign those blocks 0 population, disaggregate, then join the P and G gdfs and only keep the pop count from the G gdf.\n",
    "\n",
    "Another option/question is whether using a maup assign from the general file on the primary file could fix the issue..\n",
    "\n",
    "We are specifically interested in the precincts that contain splits in the general file not in the prim file, in terms of df slicing\n"
   ]
  },
  {
   "cell_type": "code",
   "execution_count": 1,
   "id": "8dd77388-a54d-4cde-bf37-a41b8fa9dca0",
   "metadata": {},
   "outputs": [],
   "source": [
    "import pandas as pd\n",
    "import numpy as np\n",
    "import geopandas as gp\n",
    "import os\n",
    "import maup\n",
    "from op_verification.reference_data import *\n",
    "import boto3\n",
    "import io\n",
    "pd.set_option(\"display.max_columns\", None)\n",
    "import warnings\n",
    "warnings.filterwarnings('ignore', 'GeoSeries.isna', UserWarning)\n",
    "\n",
    "maup.progress.enabled = True"
   ]
  },
  {
   "cell_type": "markdown",
   "id": "fa481cc6-f50b-4dde-bc66-12bdfb886e20",
   "metadata": {},
   "source": [
    "# Load in NC file"
   ]
  },
  {
   "cell_type": "markdown",
   "id": "32f4aed0-c4b8-4904-8462-e52744a0a93c",
   "metadata": {},
   "source": [
    "## block file set up"
   ]
  },
  {
   "cell_type": "code",
   "execution_count": 2,
   "id": "96fbfafd-3d0b-4640-bce5-bd1fdfca835a",
   "metadata": {},
   "outputs": [
    {
     "name": "stdout",
     "output_type": "stream",
     "text": [
      "Error raised iff the number of incarcerated blocks with non-zero population does NOT equal the number of modified vap blocks.\n"
     ]
    }
   ],
   "source": [
    "block_cols = ['FIPS', 'VTD', 'TRACT', 'BLOCK', 'LOGRECNO', 'P0010001', 'COUNTYFP20', 'COUSUBFP20', 'VTDST20', 'TRACTCE20', 'BLOCKCE20',\n",
    "       'GEOID20', 'NAME20', 'MTFCC20', 'UR20', 'UACE20', 'UATYPE20', 'FUNCSTAT20', 'ALAND20', 'AWATER20', 'INTPTLAT20', 'INTPTLON20',\n",
    "       'COUNTY_NME', 'MCD_NUMBER', 'MCD_NAME', 'MCD_TYP_NM', 'MCD_TYP_CD','VTD_NAME', 'BLKGRP', 'geometry']\n",
    "\n",
    "census_block_gdf = gp.read_file('nc_20_disag/nc_pl2020_b/nc_pl2020_b.shp')[['GEOID20', 'COUNTYFP20', 'P0010001', 'P0020001', 'P0040001', 'P0050001','P0050003', 'geometry']]\n",
    "\n",
    "def modify_P0040001_P0050003(block_gdf):\n",
    "    block_gdf['P0040001-P0050003'] = block_gdf['P0040001'] - block_gdf['P0050003']\n",
    "    print(\"Error raised iff the number of incarcerated blocks with non-zero population does NOT equal the number of modified vap blocks.\")\n",
    "    assert (len(block_gdf[block_gdf['P0050003']!=0]) - len(block_gdf[block_gdf['P0040001']!=block_gdf['P0040001-P0050003']])) == 0\n",
    "    block_gdf.loc[block_gdf['P0040001-P0050003']<0, 'P0040001-P0050003'] = 0\n",
    "\n",
    "    return block_gdf\n",
    "\n",
    "\n",
    "block_gdf = modify_P0040001_P0050003(census_block_gdf)\n",
    "\n",
    "neg_pop_blocks = list(block_gdf['GEOID20'][block_gdf['P0040001-P0050003']<0])\n",
    "assert neg_pop_blocks == []"
   ]
  },
  {
   "cell_type": "markdown",
   "id": "292619a1-b9a9-484e-b653-cb365d3bb61e",
   "metadata": {},
   "source": [
    "## precinct file set up"
   ]
  },
  {
   "cell_type": "code",
   "execution_count": 3,
   "id": "0e537d90-f70b-49ac-8df4-7ea799208a5d",
   "metadata": {},
   "outputs": [
    {
     "name": "stdout",
     "output_type": "stream",
     "text": [
      "(2675, 59)\n",
      "(2681, 37)\n",
      "(2675, 106)\n",
      "(2708, 251)\n",
      "(2666, 141)\n",
      "(2662, 163)\n"
     ]
    }
   ],
   "source": [
    "prec_prim_cong_gdf = gp.read_file('./nc_20_disag/nc_prim_20_prec_mod/nc_prim_20_cong_prec.shp')\n",
    "prec_gen_cong_gdf = gp.read_file('./nc_20_disag/nc_gen_20_prec/nc_gen_20_cong_prec.shp')\n",
    "prec_prim_sldl_gdf = gp.read_file('./nc_20_disag/nc_prim_20_prec_mod/nc_prim_20_sldl_prec.shp')\n",
    "prec_gen_sldl_gdf = gp.read_file('./nc_20_disag/nc_gen_20_prec/nc_gen_20_sldl_prec.shp')\n",
    "prec_prim_sldu_gdf = gp.read_file('./nc_20_disag/nc_prim_20_prec_mod/nc_prim_20_st_sldu_prec.shp')\n",
    "prec_gen_sldu_gdf = gp.read_file('./nc_20_disag/nc_gen_20_prec/nc_gen_20_st_sldu_prec.shp')\n",
    "\n",
    "print(prec_prim_cong_gdf.shape)\n",
    "print(prec_gen_cong_gdf.shape)\n",
    "print(prec_prim_sldl_gdf.shape)\n",
    "print(prec_gen_sldl_gdf.shape)\n",
    "print(prec_prim_sldu_gdf.shape)\n",
    "print(prec_gen_sldu_gdf.shape)"
   ]
  },
  {
   "cell_type": "markdown",
   "id": "448f8682-6620-489e-9bd6-6a012ebceee0",
   "metadata": {},
   "source": [
    "## maup assign and set up"
   ]
  },
  {
   "cell_type": "code",
   "execution_count": 4,
   "id": "d1f8ea33-3f53-43d1-8efc-a3a370a07a82",
   "metadata": {},
   "outputs": [],
   "source": [
    "#Functions for running maup\n",
    "def check_valid_rows(block_gdf, precinct_gdf):\n",
    "    prec_geom = precinct_gdf.geometry\n",
    "    valid_rows = precinct_gdf[~(prec_geom.isna() | prec_geom.is_empty)]\n",
    "    print('valid precinct rows: ', valid_rows.shape)\n",
    "\n",
    "    block_geom = block_gdf.geometry\n",
    "    block_valid_rows = block_gdf[~(block_geom.isna() | block_geom.is_empty)]\n",
    "    print('valid block rows: ', block_valid_rows.shape)\n",
    "    \n",
    "\n",
    "def fix_buffer(gdf):\n",
    "    \"\"\"\n",
    "    return (GeoDataFrame) with the 'bufer(0) trick' applied\n",
    "    :gdf: (GeoDataFrame) object\n",
    "    Can be useful when trying to mitigate 'self-intersection' issues\n",
    "    \"\"\"\n",
    "    buffered = gdf.buffer(0)\n",
    "    gdf.drop(columns=[\"geometry\"])\n",
    "    # gdf['geometry'] = gdf.apply(lambda x: x.geometry.buffer(0), axis=1)\n",
    "    gdf[\"geometry\"] = buffered\n",
    "    return gdf\n",
    "\n",
    "\n",
    "def maup_assignment_series(block_gdf, precinct_gdf):\n",
    "    block_gdf = block_gdf.to_crs(precinct_gdf.crs)\n",
    "    print('block_gdf shape: ', block_gdf.shape, '\\n precinct_gdf shape: ', precinct_gdf.shape)\n",
    "\n",
    "    block_gdf[\"maup_assignment\"] = maup.assign(\n",
    "        fix_buffer(block_gdf), fix_buffer(precinct_gdf)\n",
    "    )\n",
    "    print(block_gdf[block_gdf['maup_assignment'].isna()].shape[0], \" null assignments in maup series\")\n",
    "    return block_gdf\n",
    "\n",
    "\n",
    "def maup_pre_vote_setup(block_gdf, precinct_gdf, PRECID_block, DISTID_block, DISTID_prec):\n",
    "    block_gdf = block_gdf.to_crs(precinct_gdf.crs)\n",
    "    bgdf = maup_assignment_series(block_gdf, precinct_gdf)\n",
    "    assert bgdf['maup_assignment'].isna().any() == False\n",
    "    bgdf[PRECID_block] = bgdf['maup_assignment'].map(lambda idx: str(precinct_gdf.loc[idx][\"UNIQUE_ID\"]))\n",
    "    bgdf[DISTID_block] = bgdf[\"maup_assignment\"].map(lambda idx: str(precinct_gdf.loc[idx][DISTID_prec]))\n",
    "    \n",
    "    return bgdf\n",
    "\n",
    "    \n",
    "def maup_assign_labels(block_gdf, precinct_gdf, precinctid_input, distid_input):\n",
    "    #Assign precinct IDs to block file using assign series\n",
    "    block_gdf[precinctid_input] = block_gdf[\"maup_assignment\"].map(\n",
    "        lambda idx: str(precinct_gdf.loc[idx][\"UNIQUE_ID\"])\n",
    "    )\n",
    "    if \"CONG_DIST\" in precinct_gdf.columns:\n",
    "        block_gdf[distid_input] = block_gdf[\"maup_assignment\"].map(\n",
    "            lambda idx: str(precinct_gdf.loc[idx][\"CONG_DIST\"])\n",
    "        )\n",
    "    if \"SLDL_DIST\" in precinct_gdf.columns:\n",
    "        block_gdf[distid_input] = block_gdf[\"maup_assignment\"].map(\n",
    "            lambda idx: str(precinct_gdf.loc[idx][\"SLDL_DIST\"])\n",
    "        )\n",
    "    if \"SLDU_DIST\" in precinct_gdf.columns:\n",
    "        block_gdf[distid_input] = block_gdf[\"maup_assignment\"].map(\n",
    "            lambda idx: str(precinct_gdf.loc[idx][\"SLDU_DIST\"])\n",
    "        )\n",
    "    print(\"Label assignment complete\")\n",
    "\n",
    "    return block_gdf\n",
    "\n",
    "\n",
    "def election_cols(gdf):\n",
    "    election_cols = list(gdf.columns[gdf.columns.str.startswith('P20')|gdf.columns.str.startswith('PS')|gdf.columns.str.startswith('PC')|\n",
    "                     gdf.columns.str.startswith('G20')|gdf.columns.str.startswith('GS')|gdf.columns.str.startswith('GC')])\n",
    "    return election_cols  \n",
    "\n",
    "\n",
    "def assign_votes(variables, election_columns, precinct_gdf, block_gdf):\n",
    "    precinct_gdf[variables] = block_gdf[variables].groupby(block_gdf[\"maup_assignment\"]).sum()\n",
    "    print(variables, ' added to precinct_gdf based on maup assignment')\n",
    "    bl_to_prec_weights = block_gdf[variables] / block_gdf[\"maup_assignment\"].map(precinct_gdf[variables])\n",
    "    block_votes = block_gdf.copy(deep=True)\n",
    "    block_votes[election_columns] = maup.prorate(\n",
    "        block_gdf[\"maup_assignment\"], precinct_gdf[election_columns], bl_to_prec_weights\n",
    "    )\n",
    "    return block_votes\n",
    "\n",
    "\n",
    "def run_maup(block_gdf, precinct_gdf, precinctid_input, distid_input, pop_variable):\n",
    "    #Assign identifiers\n",
    "    block_gdf = maup_assignment_series(block_gdf, precinct_gdf)\n",
    "    block_gdf = maup_assign_labels(block_gdf, precinct_gdf, precinctid_input, distid_input)\n",
    "\n",
    "    #Assign votes\n",
    "    election_columns = election_cols(precinct_gdf)\n",
    "    block_votes = assign_votes(pop_variable, election_columns, precinct_gdf, block_gdf)\n",
    "    \n",
    "    return block_votes    \n",
    "\n",
    "\n",
    "def column_total_check(election_columns, block_gdf, precinct_gdf):\n",
    "    for val in election_columns:\n",
    "        vote_dif = block_gdf[val].sum()-precinct_gdf[val].sum()\n",
    "        if (abs(vote_dif) <=1e-1):\n",
    "            #print(val+\": EQUAL\", ' - total: ', 'block:', str(block_gdf[val].sum()), 'prec:', str(precinct_gdf[val].sum()), 'diff:', block_gdf[val].sum()-precinct_gdf[val].sum())\n",
    "            continue\n",
    "        else:\n",
    "            print(val+\": DIFFERENCE OF \" + str(vote_dif)+ \" VOTES\", ' - block total: ', str(block_gdf[val].sum()), ', precinct total: ', str(precinct_gdf[val].sum()))     "
   ]
  },
  {
   "cell_type": "code",
   "execution_count": null,
   "id": "fbfe8244-79ea-4cb7-bff4-8d2191c5cc7b",
   "metadata": {},
   "outputs": [
    {
     "name": "stdout",
     "output_type": "stream",
     "text": [
      "(2675, 59)\n",
      "(2681, 37)\n",
      "(2675, 106)\n",
      "(2708, 251)\n",
      "(2666, 141)\n",
      "(2662, 163)\n",
      "block_gdf shape:  (236638, 10) \n",
      " precinct_gdf shape:  (2675, 59)\n"
     ]
    },
    {
     "name": "stderr",
     "output_type": "stream",
     "text": [
      "100%|██████████| 2675/2675 [00:12<00:00, 205.87it/s]\n",
      "100%|██████████| 2675/2675 [00:53<00:00, 49.88it/s]\n"
     ]
    },
    {
     "name": "stdout",
     "output_type": "stream",
     "text": [
      "0  null assignments in maup series\n",
      "VAP_MOD  added to precinct_gdf based on maup assignment\n",
      "block_gdf shape:  (236638, 10) \n",
      " precinct_gdf shape:  (2681, 37)\n"
     ]
    },
    {
     "name": "stderr",
     "output_type": "stream",
     "text": [
      "100%|██████████| 2681/2681 [00:12<00:00, 207.27it/s]\n",
      "100%|██████████| 2681/2681 [00:49<00:00, 54.65it/s] \n"
     ]
    },
    {
     "name": "stdout",
     "output_type": "stream",
     "text": [
      "0  null assignments in maup series\n",
      "VAP_MOD  added to precinct_gdf based on maup assignment\n",
      "block_gdf shape:  (236638, 10) \n",
      " precinct_gdf shape:  (2675, 106)\n"
     ]
    },
    {
     "name": "stderr",
     "output_type": "stream",
     "text": [
      "100%|██████████| 2675/2675 [00:13<00:00, 201.26it/s]\n",
      "100%|██████████| 2675/2675 [00:52<00:00, 50.70it/s]\n"
     ]
    },
    {
     "name": "stdout",
     "output_type": "stream",
     "text": [
      "0  null assignments in maup series\n",
      "VAP_MOD  added to precinct_gdf based on maup assignment\n",
      "block_gdf shape:  (236638, 10) \n",
      " precinct_gdf shape:  (2708, 251)\n"
     ]
    },
    {
     "name": "stderr",
     "output_type": "stream",
     "text": [
      "100%|██████████| 2708/2708 [00:13<00:00, 200.73it/s]\n",
      "100%|██████████| 2708/2708 [00:49<00:00, 54.62it/s] \n"
     ]
    },
    {
     "name": "stdout",
     "output_type": "stream",
     "text": [
      "0  null assignments in maup series\n",
      "VAP_MOD  added to precinct_gdf based on maup assignment\n",
      "block_gdf shape:  (236638, 10) \n",
      " precinct_gdf shape:  (2666, 141)\n"
     ]
    },
    {
     "name": "stderr",
     "output_type": "stream",
     "text": [
      "100%|██████████| 2666/2666 [00:13<00:00, 201.59it/s]\n",
      "100%|██████████| 2666/2666 [00:52<00:00, 50.39it/s]\n"
     ]
    },
    {
     "name": "stdout",
     "output_type": "stream",
     "text": [
      "0  null assignments in maup series\n",
      "VAP_MOD  added to precinct_gdf based on maup assignment\n",
      "block_gdf shape:  (236638, 10) \n",
      " precinct_gdf shape:  (2662, 163)\n"
     ]
    },
    {
     "name": "stderr",
     "output_type": "stream",
     "text": [
      "100%|██████████| 2662/2662 [00:13<00:00, 201.90it/s]\n",
      "100%|██████████| 2662/2662 [00:50<00:00, 52.83it/s] \n"
     ]
    }
   ],
   "source": [
    "print(prec_prim_cong_gdf.shape)\n",
    "print(prec_gen_cong_gdf.shape)\n",
    "print(prec_prim_sldl_gdf.shape)\n",
    "print(prec_gen_sldl_gdf.shape)\n",
    "print(prec_prim_sldu_gdf.shape)\n",
    "print(prec_gen_sldu_gdf.shape) \n",
    "block_gdf['VAP_MOD'] = block_gdf['P0040001-P0050003']\n",
    "\n",
    "bcp = maup_pre_vote_setup(block_gdf, prec_prim_cong_gdf, \"PREC_CONG\", \"CONG_DIST\", \"CONG_DIST\")\n",
    "bcp_votes = assign_votes(\"VAP_MOD\", election_cols(prec_prim_cong_gdf), prec_prim_cong_gdf, bcp)\n",
    "\n",
    "\n",
    "bcg = maup_pre_vote_setup(block_gdf, prec_gen_cong_gdf, \"PREC_CONG\", \"CONG_DIST\", \"CONG_DIST\")\n",
    "bcg_votes = assign_votes(\"VAP_MOD\", election_cols(prec_gen_cong_gdf), prec_gen_cong_gdf, bcg)\n",
    "\n",
    "\n",
    "bslp = maup_pre_vote_setup(block_gdf, prec_prim_sldl_gdf, \"PREC_SLDL\", \"SLDL_DIST\", \"SLDL_DIST\")\n",
    "bslp_votes = assign_votes(\"VAP_MOD\", election_cols(prec_prim_sldl_gdf), prec_prim_sldl_gdf, bslp)\n",
    "\n",
    "\n",
    "bslg = maup_pre_vote_setup(block_gdf, prec_gen_sldl_gdf, \"PREC_SLDL\", \"SLDL_DIST\", \"SLDL_DIST\")\n",
    "bslg_votes = assign_votes(\"VAP_MOD\", election_cols(prec_gen_sldl_gdf), prec_gen_sldl_gdf, bslg)\n",
    "\n",
    "\n",
    "bsup = maup_pre_vote_setup(block_gdf, prec_prim_sldu_gdf, \"PREC_SLDU\", \"SLDU_DIST\", \"SLDU_DIST\")\n",
    "bsup_votes = assign_votes(\"VAP_MOD\", election_cols(prec_prim_sldu_gdf), prec_prim_sldu_gdf, bsup)\n",
    "\n",
    "\n",
    "bsug = maup_pre_vote_setup(block_gdf, prec_gen_sldu_gdf, \"PREC_SLDU\", \"SLDU_DIST\", \"SLDU_DIST\")\n",
    "bsug_votes = assign_votes(\"VAP_MOD\", election_cols(prec_gen_sldu_gdf), prec_gen_sldu_gdf, bsug)\n",
    "\n",
    "try:\n",
    "    column_total_check(election_cols(prec_prim_cong_gdf), bcp, prec_prim_cong_gdf)\n",
    "    column_total_check(election_cols(prec_gen_cong_gdf), bcg, prec_gen_cong_gdf)\n",
    "    column_total_check(election_cols(prec_prim_sldl_gdf), bslp, prec_prim_sldl_gdf)\n",
    "    column_total_check(election_cols(prec_gen_sldl_gdf), bslg, prec_gen_sldl_gdf)\n",
    "    column_total_check(election_cols(prec_prim_sldu_gdf), bsup, prec_prim_sldu_gdf)\n",
    "    column_total_check(election_cols(prec_gen_sldu_gdf), bsug, prec_gen_sldu_gdf)\n",
    "except:\n",
    "    print('check failed')"
   ]
  },
  {
   "cell_type": "markdown",
   "id": "60e9fcb8-db75-4ab0-a1c3-3da153bf1981",
   "metadata": {},
   "source": [
    "## Merge"
   ]
  },
  {
   "cell_type": "code",
   "execution_count": null,
   "id": "416cfea0-a97d-42dd-b847-103c5ef129ba",
   "metadata": {},
   "outputs": [],
   "source": [
    "#bcp_votes, bcg_votes, bslp_votes, bslg_votes, bsup_votes, bsug_votes\n",
    "b_merge = bcp_votes.merge(bcg_votes, how='outer', on=[\"GEOID20\", 'COUNTYFP20', 'COUNTY_NME', \"VAP_MOD\", \"geometry\"]).merge(\n",
    "    bslp_votes, how='outer', on=[\"GEOID20\", 'COUNTYFP20', 'COUNTY_NME', \"VAP_MOD\", \"geometry\"]).merge(\n",
    "    bslg_votes, how='outer', on=[\"GEOID20\", 'COUNTYFP20', 'COUNTY_NME', \"VAP_MOD\", \"geometry\"]).merge(\n",
    "    bsup_votes, how='outer', on=[\"GEOID20\", 'COUNTYFP20', 'COUNTY_NME', \"VAP_MOD\", \"geometry\"]).merge(\n",
    "    bsug_votes, how='outer', on=[\"GEOID20\", 'COUNTYFP20', 'COUNTY_NME', \"VAP_MOD\", \"geometry\"])"
   ]
  },
  {
   "cell_type": "code",
   "execution_count": null,
   "id": "1d21eb3c-000b-403b-b8dd-b6e4235a76ba",
   "metadata": {},
   "outputs": [],
   "source": [
    "b_merge.head()"
   ]
  },
  {
   "cell_type": "markdown",
   "id": "a674723f-5f82-426a-9e92-4aa3d798f694",
   "metadata": {},
   "source": [
    "# Checks"
   ]
  },
  {
   "cell_type": "code",
   "execution_count": 18,
   "id": "113343d3-dd05-4c02-987c-bc761ba53b81",
   "metadata": {},
   "outputs": [
    {
     "name": "stderr",
     "output_type": "stream",
     "text": [
      "<ipython-input-18-5bf6a63aa161>:11: SettingWithCopyWarning: \n",
      "A value is trying to be set on a copy of a slice from a DataFrame.\n",
      "Try using .loc[row_indexer,col_indexer] = value instead\n",
      "\n",
      "See the caveats in the documentation: https://pandas.pydata.org/pandas-docs/stable/user_guide/indexing.html#returning-a-view-versus-a-copy\n",
      "  popcd['prec_pop'] = popcd[PREC_COL].map(prec_to_pop_dict_gcd)\n",
      "<ipython-input-18-5bf6a63aa161>:12: SettingWithCopyWarning: \n",
      "A value is trying to be set on a copy of a slice from a DataFrame.\n",
      "Try using .loc[row_indexer,col_indexer] = value instead\n",
      "\n",
      "See the caveats in the documentation: https://pandas.pydata.org/pandas-docs/stable/user_guide/indexing.html#returning-a-view-versus-a-copy\n",
      "  popcd['prop'] = popcd[VAP_MOD_COL]/popcd['prec_pop']\n"
     ]
    },
    {
     "name": "stdout",
     "output_type": "stream",
     "text": [
      "9171.0\n",
      "9172\n",
      "None\n",
      "9149.0\n",
      "9150\n",
      "None\n",
      "9152.0\n",
      "9153\n",
      "None\n"
     ]
    }
   ],
   "source": [
    "def check_block_to_prec_pop_prop_sum(pop_col_list, VAP_MOD_COL, PREC_COL):\n",
    "    #TODO change pop cols checking\n",
    "    pop_col_list = pop_col_list + ['GEOID20', 'P0010001_sldu']\n",
    "    popcd = b_merge[pop_col_list]\n",
    "    prec_popcd = popcd.groupby(PREC_COL).sum().reset_index()\n",
    "\n",
    "    prec_to_pop_dict_gcd = pd.Series(prec_popcd[VAP_MOD_COL].values, index = prec_popcd[PREC_COL]).to_dict()\n",
    "    \n",
    "    #print(prec_to_pop_dict_gcd)\n",
    "    \n",
    "    popcd['prec_pop'] = popcd[PREC_COL].map(prec_to_pop_dict_gcd)\n",
    "    popcd['prop'] = popcd[VAP_MOD_COL]/popcd['prec_pop']\n",
    "    \n",
    "    print(popcd.groupby(PREC_COL).sum()['prop'].sum())\n",
    "    print(popcd[PREC_COL].nunique())\n",
    "    \n",
    "\n",
    "print(check_block_to_prec_pop_prop_sum(['PREC_CONG', 'VAP_MOD'], 'VAP_MOD', 'PREC_CONG'))\n",
    "print(check_block_to_prec_pop_prop_sum(['PREC_ST_SLDU', 'VAP_MOD'], 'VAP_MOD', 'PREC_ST_SLDU'))\n",
    "print(check_block_to_prec_pop_prop_sum(['PREC_SLDL', 'VAP_MOD'], 'VAP_MOD', 'PREC_SLDL'))"
   ]
  },
  {
   "cell_type": "markdown",
   "id": "821669af-947d-4754-8390-2e4b20beff9c",
   "metadata": {},
   "source": [
    "Prec #s\n",
    "(9177, 61)\n",
    "(9153, 529)\n",
    "(9150, 93)"
   ]
  },
  {
   "cell_type": "code",
   "execution_count": 19,
   "id": "4633bac0-8e1b-434f-b838-3df6554eb69b",
   "metadata": {},
   "outputs": [],
   "source": [
    "#Column total checks\n",
    "column_total_check(election_cols(cong20), b_merge, cong20)\n",
    "column_total_check(election_cols(st_sldu20), b_merge, st_sldu20)\n",
    "column_total_check(election_cols(sldl20), b_merge, sldl20)"
   ]
  },
  {
   "cell_type": "code",
   "execution_count": 23,
   "id": "c2f771cf-6906-4542-88cd-b628b0dd153b",
   "metadata": {
    "tags": []
   },
   "outputs": [
    {
     "name": "stdout",
     "output_type": "stream",
     "text": [
      "precs to check:  set()\n",
      "Precinct check complete!\n",
      "precs to check:  set()\n",
      "Precinct check complete!\n",
      "precs to check:  set()\n",
      "Precinct check complete!\n"
     ]
    }
   ],
   "source": [
    "def precinct_sum_check(prec_gdf, block_gdf, blk_prec_id):\n",
    "    prec_gpbyprec = prec_gdf.groupby(['UNIQUE_ID']).sum()\n",
    "    blk_gpbyprec = block_gdf.groupby([blk_prec_id]).sum()\n",
    "    prec_w_difs_list = []\n",
    "    \n",
    "    prec_gpbyprec.sort_values(by='UNIQUE_ID',inplace=True)\n",
    "    prec_gpbyprec.reset_index(inplace = True)\n",
    "    blk_gpbyprec.sort_values(by= blk_prec_id, inplace=True)\n",
    "    blk_gpbyprec.reset_index(inplace = True)\n",
    "    \n",
    "    for i in range(0, prec_gdf['UNIQUE_ID'].nunique()):\n",
    "        for col in election_cols(prec_gdf):\n",
    "            prec_diff = round(blk_gpbyprec[col].iloc[i], 1) - round(prec_gpbyprec[col].iloc[i], 1)\n",
    "            if (prec_diff!=0):\n",
    "                prec_w_difs_list.append(prec_gpbyprec.index[i])\n",
    "                print(\"prec id: \", blk_gpbyprec.index[i], prec_gpbyprec.index[i], col, \"block: \", round(blk_gpbyprec[col].iloc[i],1), \n",
    "                      \"prec: \", round(prec_gpbyprec[col].iloc[i],1), \"diff: \", prec_diff)\n",
    "    print(\"precs to check: \", set(prec_w_difs_list))\n",
    "    print(\"Precinct check complete!\")\n",
    "\n",
    "\n",
    "#Precinct total checks\n",
    "precinct_sum_check(cong20, b_merge, \"PREC_CONG\")\n",
    "precinct_sum_check(sldl20, b_merge, \"PREC_SLDL\")\n",
    "precinct_sum_check(st_sldu20, b_merge, \"PREC_ST_SLDU\")"
   ]
  },
  {
   "cell_type": "code",
   "execution_count": null,
   "id": "c7b0e719-a822-4fa5-943d-a03862a87a33",
   "metadata": {},
   "outputs": [],
   "source": [
    "#Check for column name length"
   ]
  },
  {
   "cell_type": "markdown",
   "id": "41c605c7-0943-4652-923a-3b60933fbd09",
   "metadata": {},
   "source": [
    "## Export"
   ]
  },
  {
   "cell_type": "markdown",
   "id": "6e5994c9-78f9-4c85-974c-9878e1048ce4",
   "metadata": {},
   "source": [
    "## Readme"
   ]
  },
  {
   "cell_type": "code",
   "execution_count": null,
   "id": "4fda623f-0791-4350-aeef-105be098985b",
   "metadata": {},
   "outputs": [],
   "source": []
  }
 ],
 "metadata": {
  "kernelspec": {
   "display_name": "pdv_env",
   "language": "python",
   "name": "pdv_env"
  },
  "language_info": {
   "codemirror_mode": {
    "name": "ipython",
    "version": 3
   },
   "file_extension": ".py",
   "mimetype": "text/x-python",
   "name": "python",
   "nbconvert_exporter": "python",
   "pygments_lexer": "ipython3",
   "version": "3.9.4"
  }
 },
 "nbformat": 4,
 "nbformat_minor": 5
}
