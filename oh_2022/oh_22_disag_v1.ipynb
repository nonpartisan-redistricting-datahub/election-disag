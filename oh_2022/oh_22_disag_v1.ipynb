{
 "cells": [
  {
   "cell_type": "code",
   "execution_count": 1,
   "id": "059bcdcc-5add-4d51-8ec6-22e82022c7f9",
   "metadata": {},
   "outputs": [],
   "source": [
    "import os\n",
    "import io\n",
    "import pandas as pd\n",
    "pd.set_option(\"display.max_columns\", None)\n",
    "import geopandas as gp\n",
    "import boto3\n",
    "import maup\n",
    "maup.progress.enabled = True\n",
    "from s3_paths import *\n",
    "from shapely.geometry import MultiPolygon, Polygon\n",
    "from shapely.ops import unary_union\n",
    "import warnings\n",
    "warnings.filterwarnings('ignore', 'GeoSeries.isna', UserWarning)\n",
    "\n",
    "\n",
    "#Function to adjust Census VAP to account for incarcerated pop by subtracting and then assign 0 to any negative values\n",
    "def modify_P0040001_P0050003(block_gdf):\n",
    "    block_gdf['P0040001-P0050003'] = block_gdf['P0040001'] - block_gdf['P0050003']\n",
    "    print(\"Error raised iff the number of incarcerated blocks with non-zero population does NOT equal the number of modified vap blocks.\")\n",
    "    assert (len(block_gdf[block_gdf['P0050003']!=0]) - len(block_gdf[block_gdf['P0040001']!=block_gdf['P0040001-P0050003']])) == 0\n",
    "    block_gdf.loc[block_gdf['P0040001-P0050003']<0, 'P0040001-P0050003'] = 0\n",
    "\n",
    "    return block_gdf\n",
    "\n",
    "\n",
    "#Functions for running maup\n",
    "def check_valid_rows(block_gdf, precinct_gdf):\n",
    "    prec_geom = precinct_gdf.geometry\n",
    "    valid_rows = precinct_gdf[~(prec_geom.isna() | prec_geom.is_empty)]\n",
    "    print('valid precinct rows: ', valid_rows.shape)\n",
    "\n",
    "    block_geom = block_gdf.geometry\n",
    "    block_valid_rows = block_gdf[~(block_geom.isna() | block_geom.is_empty)]\n",
    "    print('valid block rows: ', block_valid_rows.shape)\n",
    "    \n",
    "\n",
    "def fix_buffer(gdf):\n",
    "    \"\"\"\n",
    "    return (GeoDataFrame) with the 'buffer(0) trick' applied\n",
    "    :gdf: (GeoDataFrame) object\n",
    "    Can be useful when trying to mitigate 'self-intersection' issues\n",
    "    \"\"\"\n",
    "    buffered = gdf.buffer(0)\n",
    "    gdf.drop(columns=[\"geometry\"])\n",
    "    # gdf['geometry'] = gdf.apply(lambda x: x.geometry.buffer(0), axis=1)\n",
    "    gdf[\"geometry\"] = buffered\n",
    "    return gdf\n",
    "\n",
    "\n",
    "def maup_assignment_series(block_gdf, precinct_gdf):\n",
    "    block_gdf = block_gdf.to_crs(precinct_gdf.crs)\n",
    "    print('block_gdf shape: ', block_gdf.shape, '\\n precinct_gdf shape: ', precinct_gdf.shape)\n",
    "\n",
    "    block_gdf[\"maup_assignment\"] = maup.assign(\n",
    "        fix_buffer(block_gdf), fix_buffer(precinct_gdf)).fillna(0) #In case of OH, na are 0 pop\n",
    "    print(block_gdf[block_gdf['maup_assignment'].isna()].shape[0], \" null assignments in maup series\")\n",
    "    return block_gdf\n",
    "\n",
    "\n",
    "def maup_pre_vote_setup(block_gdf, precinct_gdf, PRECID_block):\n",
    "    block_gdf = block_gdf.to_crs(precinct_gdf.crs)\n",
    "    bgdf = maup_assignment_series(block_gdf, precinct_gdf)\n",
    "    #assert bgdf['maup_assignment'].isna().any() == False  #-- Cut out for OH because all but two are 0 pop\n",
    "    bgdf[PRECID_block] = bgdf['maup_assignment'].map(lambda idx: str(precinct_gdf.loc[idx][\"UNIQUE_ID\"]))\n",
    "    \n",
    "    return bgdf\n",
    "\n",
    "    \n",
    "def maup_assign_labels(block_gdf, precinct_gdf, precinctid_input, distid_input):\n",
    "    #Assign precinct IDs to block file using assign series\n",
    "    block_gdf[precinctid_input] = block_gdf[\"maup_assignment\"].map(\n",
    "        lambda idx: str(precinct_gdf.loc[idx][\"UNIQUE_ID\"])\n",
    "    )\n",
    "    if \"CONG_DIST\" in precinct_gdf.columns:\n",
    "        block_gdf[distid_input] = block_gdf[\"maup_assignment\"].map(\n",
    "            lambda idx: str(precinct_gdf.loc[idx][\"CONG_DIST\"])\n",
    "        )\n",
    "    if \"SLDL_DIST\" in precinct_gdf.columns:\n",
    "        block_gdf[distid_input] = block_gdf[\"maup_assignment\"].map(\n",
    "            lambda idx: str(precinct_gdf.loc[idx][\"SLDL_DIST\"])\n",
    "        )\n",
    "    if \"SLDU_DIST\" in precinct_gdf.columns:\n",
    "        block_gdf[distid_input] = block_gdf[\"maup_assignment\"].map(\n",
    "            lambda idx: str(precinct_gdf.loc[idx][\"SLDU_DIST\"])\n",
    "        )\n",
    "    print(\"Label assignment complete\")\n",
    "\n",
    "    return block_gdf\n",
    "\n",
    "\n",
    "def election_cols(gdf):\n",
    "    election_cols = list(gdf.columns[gdf.columns.str.startswith('G')])\n",
    "    return election_cols \n",
    "\n",
    "\n",
    "def assign_votes(variables, election_columns, precinct_gdf, block_gdf):\n",
    "    precinct_gdf[variables] = block_gdf[variables].groupby(block_gdf[\"maup_assignment\"]).sum()\n",
    "    print(variables, ' added to precinct_gdf based on maup assignment')\n",
    "    bl_to_prec_weights = block_gdf[variables] / block_gdf[\"maup_assignment\"].map(precinct_gdf[variables])\n",
    "    block_votes = block_gdf.copy(deep=True)\n",
    "    block_votes[election_columns] = maup.prorate(\n",
    "        block_gdf[\"maup_assignment\"], precinct_gdf[election_columns], bl_to_prec_weights\n",
    "    )\n",
    "    return block_votes\n",
    "\n",
    "\n",
    "def run_maup(block_gdf, precinct_gdf, precinctid_input, pop_variable):\n",
    "    #Assign identifiers\n",
    "    block_gdf = maup_assignment_series(block_gdf, precinct_gdf)\n",
    "    block_gdf = maup_assign_labels(block_gdf, precinct_gdf, precinctid_input)\n",
    "\n",
    "    #Assign votes\n",
    "    election_columns = election_cols(precinct_gdf)\n",
    "    block_votes = assign_votes(pop_variable, election_columns, precinct_gdf, block_gdf)\n",
    "    \n",
    "    return block_votes   \n",
    "\n",
    "\n",
    "def column_total_check(election_columns, block_gdf, precinct_gdf):\n",
    "    mismatch_list = []\n",
    "    for val in election_columns:\n",
    "        vote_dif = block_gdf[val].sum()-precinct_gdf[val].sum()\n",
    "        if (abs(vote_dif) <=1e-1):\n",
    "            #print(val+\": EQUAL\", ' - total: ', 'block:', str(block_gdf[val].sum()), 'prec:', str(precinct_gdf[val].sum()), 'diff:', block_gdf[val].sum()-precinct_gdf[val].sum())\n",
    "            continue\n",
    "        else:\n",
    "            mismatch_list.append(val)\n",
    "            print(val+\": DIFFERENCE OF \" + str(vote_dif)+ \" VOTES\", ' - block total: ', str(block_gdf[val].sum()), ', precinct total: ', str(precinct_gdf[val].sum()))  \n",
    "    print(\"Mismatch list: \", mismatch_list)\n",
    "            \n",
    "def precinct_sum_check(prec_gdf, block_gdf, blk_prec_id):\n",
    "    prec_gpbyprec = prec_gdf.groupby(['UNIQUE_ID']).sum()\n",
    "    blk_gpbyprec = block_gdf.groupby([blk_prec_id]).sum()\n",
    "    prec_w_difs_list = []\n",
    "    \n",
    "    prec_gpbyprec.sort_values(by='UNIQUE_ID',inplace=True)\n",
    "    prec_gpbyprec.reset_index(inplace = True)\n",
    "    blk_gpbyprec.sort_values(by= blk_prec_id, inplace=True)\n",
    "    blk_gpbyprec.reset_index(inplace = True)\n",
    "    \n",
    "    for i in range(0, prec_gdf['UNIQUE_ID'].nunique()):\n",
    "        for col in election_cols(prec_gdf):\n",
    "            prec_diff = round(blk_gpbyprec[col].iloc[i], 1) - round(prec_gpbyprec[col].iloc[i], 1)\n",
    "            if (prec_diff!=0):\n",
    "                prec_w_difs_list.append(prec_gpbyprec.index[i])\n",
    "                print(\"prec id: \", blk_gpbyprec.index[i], prec_gpbyprec.index[i], col, \"block: \", round(blk_gpbyprec[col].iloc[i],1), \n",
    "                      \"prec: \", round(prec_gpbyprec[col].iloc[i],1), \"diff: \", prec_diff)\n",
    "    print(\"precs to check: \", set(prec_w_difs_list))\n",
    "    print(\"Precinct check complete!\")\n",
    "\n"
   ]
  },
  {
   "cell_type": "code",
   "execution_count": 2,
   "id": "6d6b74b0-73da-46bf-a75c-8e490d66a37d",
   "metadata": {},
   "outputs": [
    {
     "name": "stdout",
     "output_type": "stream",
     "text": [
      "Error raised iff the number of incarcerated blocks with non-zero population does NOT equal the number of modified vap blocks.\n"
     ]
    }
   ],
   "source": [
    "##Step 0: Load in relevant gdfs \n",
    "s3_client = boto3.client('s3')\n",
    "census_block_gdf = gp.read_file(f'zip+{census_block}')[['GEOID20', 'COUNTYFP20', 'NAME20','P0010001', 'P0020001', 'P0040001', 'P0050003', 'geometry']]\n",
    "census_block_gdf = modify_P0040001_P0050003(census_block_gdf)\n",
    "oh_blocks = census_block_gdf.copy()"
   ]
  },
  {
   "cell_type": "code",
   "execution_count": 3,
   "id": "712fa0bd-15f4-4dbf-942f-5dfb6f80fb47",
   "metadata": {},
   "outputs": [],
   "source": [
    "#Step 0: Load in relevant gdfs \n",
    "pber_st = gp.read_file(\"../../pber_collection/OH/oh_2022_gen_prec_shp/oh_2022_gen_prec_st.shp\")"
   ]
  },
  {
   "cell_type": "code",
   "execution_count": 4,
   "id": "4f0b03e4-be5d-4fad-8a21-352e083872c4",
   "metadata": {
    "tags": []
   },
   "outputs": [
    {
     "name": "stdout",
     "output_type": "stream",
     "text": [
      "block_gdf shape:  (276428, 9) \n",
      " precinct_gdf shape:  (8941, 26)\n"
     ]
    },
    {
     "name": "stderr",
     "output_type": "stream",
     "text": [
      "100%|██████████| 8941/8941 [00:50<00:00, 176.09it/s]\n",
      "100%|██████████| 8941/8941 [01:49<00:00, 81.62it/s] \n",
      "/Users/lilyfalk/anaconda3/envs/pdv_env/lib/python3.9/site-packages/maup/intersections.py:42: UserWarning: Geometry is in a geographic CRS. Results from 'area' are likely incorrect. Use 'GeoSeries.to_crs()' to re-project geometries to a projected CRS before this operation.\n",
      "\n",
      "  geometries = geometries[geometries.area > area_cutoff]\n",
      "/Users/lilyfalk/anaconda3/envs/pdv_env/lib/python3.9/site-packages/maup/assign.py:26: UserWarning: Geometry is in a geographic CRS. Results from 'area' are likely incorrect. Use 'GeoSeries.to_crs()' to re-project geometries to a projected CRS before this operation.\n",
      "\n",
      "  return assign_to_max(intersections(sources, targets, area_cutoff=0).area)\n"
     ]
    },
    {
     "name": "stdout",
     "output_type": "stream",
     "text": [
      "0  null assignments in maup series\n",
      "P0040001-P0050003  added to precinct_gdf based on maup assignment\n"
     ]
    }
   ],
   "source": [
    "bprec = maup_pre_vote_setup(oh_blocks, pber_st, \"PREC\")\n",
    "bprec_votes = assign_votes(\"P0040001-P0050003\", election_cols(pber_st), pber_st, bprec)"
   ]
  },
  {
   "cell_type": "code",
   "execution_count": 5,
   "id": "505189d8-76a1-4735-902e-70def301df8c",
   "metadata": {},
   "outputs": [
    {
     "name": "stdout",
     "output_type": "stream",
     "text": [
      "Mismatch list:  []\n"
     ]
    }
   ],
   "source": [
    "election_col_list = ['G22ATGDCRO','G22ATGRYOS',\n",
    " 'G22AUDDSAP',\n",
    " 'G22AUDRFAB',\n",
    " 'G22CJUDBRU',\n",
    " 'G22CJURKEN',\n",
    " 'G22GOVDWHA',\n",
    " 'G22GOVRDEW',\n",
    " 'G22JUSDJAM',\n",
    " 'G22JUSDZAY',\n",
    " 'G22JUSRDEW',\n",
    " 'G22JUSRFIS',\n",
    " 'G22SOSDCLA',\n",
    " 'G22SOSOMAR',\n",
    " 'G22SOSRLAR',\n",
    " 'G22TREDSCH',\n",
    " 'G22TRERSPR',\n",
    " 'G22USSDRYA',\n",
    " 'G22USSRVAN']\n",
    "column_total_check(election_col_list, bprec_votes, pber_st)"
   ]
  },
  {
   "cell_type": "code",
   "execution_count": 6,
   "id": "cb8f2257-1df2-42cd-8173-0f1a35727ccf",
   "metadata": {},
   "outputs": [
    {
     "name": "stdout",
     "output_type": "stream",
     "text": [
      "precs to check:  set()\n",
      "Precinct check complete!\n"
     ]
    }
   ],
   "source": [
    "precinct_sum_check(pber_st[pber_st.columns[pber_st.columns!=\"geometry\"]], bprec_votes[bprec_votes.columns[bprec_votes.columns!=\"geometry\"]], \"PREC\")"
   ]
  },
  {
   "cell_type": "code",
   "execution_count": 7,
   "id": "dae6bad8-a21e-4879-b9fb-227d27f45b12",
   "metadata": {},
   "outputs": [],
   "source": [
    "bprec_votes[\"VAP_MOD\"] = bprec_votes[\"P0040001-P0050003\"]\n",
    "bprec_votes[\"PRECINCTID\"] = bprec_votes[\"PREC\"]\n",
    "bprec_votes_export = bprec_votes[['GEOID20', 'NAME20','COUNTYFP20', 'PRECINCTID', 'VAP_MOD',\n",
    "       'G22ATGDCRO', 'G22ATGRYOS', 'G22AUDDSAP', 'G22AUDRFAB', 'G22CJUDBRU',\n",
    "       'G22CJURKEN', 'G22GOVDWHA', 'G22GOVRDEW', 'G22JUSDJAM', 'G22JUSDZAY',\n",
    "       'G22JUSRDEW', 'G22JUSRFIS', 'G22SOSDCLA', 'G22SOSOMAR', 'G22SOSRLAR',\n",
    "       'G22TREDSCH', 'G22TRERSPR', 'G22USSDRYA', 'G22USSRVAN','geometry']].round(2).fillna(0)"
   ]
  },
  {
   "cell_type": "code",
   "execution_count": 8,
   "id": "5b7ad6ef-721c-4f1b-8691-594d92137f16",
   "metadata": {},
   "outputs": [],
   "source": [
    "bprec_votes_export.to_file(\"./oh_2022_gen_2020_blocks/oh_2022_gen_2020_blocks.shp\")"
   ]
  },
  {
   "cell_type": "code",
   "execution_count": 9,
   "id": "bd56eb60-5b5c-440d-9b05-119569c6eb9e",
   "metadata": {},
   "outputs": [],
   "source": [
    "load_check = gp.read_file(\"./oh_2022_gen_2020_blocks/oh_2022_gen_2020_blocks.shp\")"
   ]
  },
  {
   "cell_type": "code",
   "execution_count": null,
   "id": "b0cbd666-256b-407a-b91b-e814bf4ff807",
   "metadata": {},
   "outputs": [],
   "source": [
    "load_check.isna().any()"
   ]
  },
  {
   "cell_type": "code",
   "execution_count": null,
   "id": "1b074909-c05f-4da1-a4ce-b5a375ec8929",
   "metadata": {},
   "outputs": [],
   "source": []
  }
 ],
 "metadata": {
  "kernelspec": {
   "display_name": "pdv_env",
   "language": "python",
   "name": "pdv_env"
  },
  "language_info": {
   "codemirror_mode": {
    "name": "ipython",
    "version": 3
   },
   "file_extension": ".py",
   "mimetype": "text/x-python",
   "name": "python",
   "nbconvert_exporter": "python",
   "pygments_lexer": "ipython3",
   "version": "3.9.4"
  }
 },
 "nbformat": 4,
 "nbformat_minor": 5
}
